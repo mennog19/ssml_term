{
 "cells": [
  {
   "cell_type": "code",
   "execution_count": null,
   "metadata": {},
   "outputs": [],
   "source": [
    "import os\n",
    "import pandas as pd\n",
    "\n",
    "def load_csvs_if_headers_match(directory: str) -> pd.DataFrame:\n",
    "    files = [f for f in os.listdir(directory) if f.endswith('.csv')]\n",
    "    if not files:\n",
    "        raise ValueError(\"No CSV files found in the directory\")\n",
    "    \n",
    "    # Read the header of the first file\n",
    "    first_file = os.path.join(directory, files[0])\n",
    "    first_df = pd.read_csv(first_file, nrows=0)\n",
    "    expected_columns = list(first_df.columns)\n",
    "    \n",
    "    all_dataframes = []\n",
    "    \n",
    "    for file in files:\n",
    "        file_path = os.path.join(directory, file)\n",
    "        df = pd.read_csv(file_path)\n",
    "        \n",
    "        if list(df.columns) != expected_columns:\n",
    "            raise ValueError(f\"Column mismatch in file: {file}\")\n",
    "        \n",
    "        all_dataframes.append(df)\n",
    "    \n",
    "    return pd.concat(all_dataframes, ignore_index=True)\n",
    "\n",
    "def filter_by_crime_types(df: pd.DataFrame, crime_types: list) -> pd.DataFrame:\n",
    "    if \"Crime type\" not in df.columns:\n",
    "        raise ValueError(\"Column 'Crime type' not found in DataFrame\")\n",
    "    return df[df[\"Crime type\"].isin(crime_types)]"
   ]
  },
  {
   "cell_type": "code",
   "execution_count": null,
   "metadata": {},
   "outputs": [],
   "source": [
    "df = load_csvs_if_headers_match(\"data\")\n",
    "filtered_df = filter_by_crime_types(df, [\"Burglary\", \"Robbery\"])\n",
    "\n",
    "print(filtered_df)"
   ]
  }
 ],
 "metadata": {
  "kernelspec": {
   "display_name": "Python 3",
   "language": "python",
   "name": "python3"
  },
  "language_info": {
   "codemirror_mode": {
    "name": "ipython",
    "version": 3
   },
   "file_extension": ".py",
   "mimetype": "text/x-python",
   "name": "python",
   "nbconvert_exporter": "python",
   "pygments_lexer": "ipython3",
   "version": "3.12.1"
  }
 },
 "nbformat": 4,
 "nbformat_minor": 2
}
