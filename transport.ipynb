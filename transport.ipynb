{
 "cells": [
  {
   "cell_type": "code",
   "execution_count": 24,
   "metadata": {},
   "outputs": [],
   "source": [
    "import geopandas as gpd\n",
    "import pandas as pd\n",
    "import csv\n",
    "from pyproj import Transformer\n",
    "import re"
   ]
  },
  {
   "cell_type": "code",
   "execution_count": null,
   "metadata": {},
   "outputs": [
    {
     "name": "stdout",
     "output_type": "stream",
     "text": [
      "                        UniqueId StationUniqueId AreaName  AreaId  Level  \\\n",
      "0       910GACTNCTL-1001002-AC-3     910GACTNCTL       AC       3      0   \n",
      "1      910GACTNCTL-1001002-Bus-1     910GACTNCTL      Bus       1      0   \n",
      "2     910GACTNCTL-1001002-ENTR-7     910GACTNCTL     ENTR       7      0   \n",
      "3      910GACTNCTL-1001002-RLY-4     910GACTNCTL      RLY       4      1   \n",
      "4      910GACTNCTL-1001002-RPL-2     910GACTNCTL      RPL       2      1   \n",
      "...                          ...             ...      ...     ...    ...   \n",
      "4059       HUBZWL-1000268-RLY-16          HUBZWL      RLY      16      0   \n",
      "4060        HUBZWL-1000268-RLY-7          HUBZWL      RLY       7     -1   \n",
      "4061      HUBZWL-1000268-RPL-N-4          HUBZWL    RPL-N       4     -4   \n",
      "4062      HUBZWL-1000268-RPL-S-5          HUBZWL    RPL-S       5     -4   \n",
      "4063        HUBZWL-1000268-TH-14          HUBZWL       TH      14      1   \n",
      "\n",
      "            Lat       Lon FriendlyName  \n",
      "0     51.508624 -0.263507           AC  \n",
      "1     51.506514 -0.263717          Bus  \n",
      "2     51.508925 -0.262602         ENTR  \n",
      "3     51.508651 -0.262930          RLY  \n",
      "4     51.508653 -0.263059          RPL  \n",
      "...         ...       ...          ...  \n",
      "4059  51.519430 -0.060191          RLY  \n",
      "4060  51.519413 -0.059759          RLY  \n",
      "4061  51.519578 -0.059911        RPL-N  \n",
      "4062  51.519631 -0.059837        RPL-S  \n",
      "4063  51.519365 -0.059574           TH  \n",
      "\n",
      "[4064 rows x 8 columns]\n",
      "         UniqueId                     Name FareZones HubNaptanCode   Wifi  \\\n",
      "0          HUBABW               Abbey Wood         4        HUBABW  False   \n",
      "1     910GACTNCTL            Acton Central         3           NaN   True   \n",
      "2     910GACTONML          Acton Main Line         3           NaN  False   \n",
      "3     910GANERLEY                  Anerley         4           NaN   True   \n",
      "4     910GBCKNHMH           Beckenham Hill         4           NaN  False   \n",
      "..            ...                      ...       ...           ...    ...   \n",
      "504        HUBZWL              Whitechapel         2        HUBZWL  False   \n",
      "505  940GZZNEUGST                Nine Elms         1           NaN   True   \n",
      "506  940GZZBPSUST  Battersea Power Station         1           NaN   True   \n",
      "507    910GWOLWXR                 Woolwich         4    910GWOLWXR   True   \n",
      "508     910GBKRVS        Barking Riverside         4     910GBKRVS   True   \n",
      "\n",
      "    OutsideStationUniqueId  BlueBadgeCarParking  BlueBadgeCarParkSpaces  \\\n",
      "0           HUBABW-Outside                False                     NaN   \n",
      "1      910GACTNCTL-Outside                False                     NaN   \n",
      "2      910GACTONML-Outside                False                     NaN   \n",
      "3      910GANERLEY-Outside                False                     NaN   \n",
      "4      910GBCKNHMH-Outside                False                     NaN   \n",
      "..                     ...                  ...                     ...   \n",
      "504         HUBZWL-Outside                False                     NaN   \n",
      "505   940GZZNEUGST-Outside                False                     NaN   \n",
      "506   940GZZBPSUST-Outside                False                     NaN   \n",
      "507     910GWOLWXR-Outside                False                     NaN   \n",
      "508      910GBKRVS-Outside                False                     NaN   \n",
      "\n",
      "     TaxiRanksOutsideStation MainBusInterchange PierInterchange  \\\n",
      "0                      False                NaN             NaN   \n",
      "1                      False                NaN             NaN   \n",
      "2                      False                NaN             NaN   \n",
      "3                      False                NaN             NaN   \n",
      "4                      False                NaN             NaN   \n",
      "..                       ...                ...             ...   \n",
      "504                    False                NaN             NaN   \n",
      "505                    False                NaN             NaN   \n",
      "506                    False                NaN             NaN   \n",
      "507                    False                NaN             NaN   \n",
      "508                    False                NaN            Full   \n",
      "\n",
      "    NationalRailInterchange AirportInterchange EmiratesAirLineInterchange  \n",
      "0                       NaN                NaN                        NaN  \n",
      "1                       NaN                NaN                        NaN  \n",
      "2                       NaN                NaN                        NaN  \n",
      "3                       NaN                NaN                        NaN  \n",
      "4                       NaN                NaN                        NaN  \n",
      "..                      ...                ...                        ...  \n",
      "504                     NaN                NaN                        NaN  \n",
      "505                     NaN                NaN                        NaN  \n",
      "506                     NaN                NaN                        NaN  \n",
      "507                     NaN                NaN                        NaN  \n",
      "508                     NaN                NaN                        NaN  \n",
      "\n",
      "[509 rows x 14 columns]\n"
     ]
    }
   ],
   "source": [
    "# Import data\n",
    "csv_stationpoints = pd.read_csv('tfl-stationdata-detailed/StationPoints.csv')\n",
    "\n",
    "csv_stations = pd.read_csv('tfl-stationdata-detailed/Stations.csv')\n",
    "\n",
    "print(csv_stationpoints)\n",
    "print(csv_stations)"
   ]
  },
  {
   "cell_type": "code",
   "execution_count": null,
   "metadata": {},
   "outputs": [
    {
     "name": "stdout",
     "output_type": "stream",
     "text": [
      "Index(['UniqueId_x', 'StationUniqueId', 'AreaName', 'AreaId', 'Level', 'Lat',\n",
      "       'Lon', 'FriendlyName', 'UniqueId_y', 'Name', 'FareZones',\n",
      "       'HubNaptanCode', 'Wifi', 'OutsideStationUniqueId',\n",
      "       'BlueBadgeCarParking', 'BlueBadgeCarParkSpaces',\n",
      "       'TaxiRanksOutsideStation', 'MainBusInterchange', 'PierInterchange',\n",
      "       'NationalRailInterchange', 'AirportInterchange',\n",
      "       'EmiratesAirLineInterchange'],\n",
      "      dtype='object')\n"
     ]
    }
   ],
   "source": [
    "# Merge stations\n",
    "merged_stations = pd.merge(csv_stationpoints, csv_stations, \n",
    "                     left_on=\"StationUniqueId\", right_on=\"UniqueId\", \n",
    "                     how=\"inner\") \n"
   ]
  },
  {
   "cell_type": "code",
   "execution_count": null,
   "metadata": {},
   "outputs": [
    {
     "name": "stdout",
     "output_type": "stream",
     "text": [
      "  StationUniqueId           Name FriendlyName        Lat       Lon\n",
      "0     910GACTNCTL  Acton Central           AC  51.508624 -0.263507\n",
      "1     910GACTNCTL  Acton Central          Bus  51.506514 -0.263717\n",
      "2     910GACTNCTL  Acton Central         ENTR  51.508925 -0.262602\n",
      "3     910GACTNCTL  Acton Central          RLY  51.508651 -0.262930\n",
      "4     910GACTNCTL  Acton Central          RPL  51.508653 -0.263059\n"
     ]
    }
   ],
   "source": [
    "# Select columns we need\n",
    "merged_stations = merged_stations[['StationUniqueId', 'Name', 'FriendlyName', 'Lat', 'Lon']]\n",
    "\n",
    "print(merged_stations.head())"
   ]
  },
  {
   "cell_type": "code",
   "execution_count": null,
   "metadata": {},
   "outputs": [],
   "source": [
    "# Regex patterns and replacements\n",
    "friendly_name_mapping = {\n",
    "    r\"(?i)\\bsub[-_]?wa\\b|\\bsub[-_]?\\b\": \"Subway\",  # Matches Subwa, Sub-W, SUB, sub\n",
    "    r\"(?i)\\brly[-_]?.*?\\b\": \"Railway\",  # Matches RLY, rly-xyz, etc.\n",
    "    r\"(?i)\\brpl[-_]?.*?\\b\": \"Railplatform\",  # Matches RPL, RPL-N, rpl_s\n",
    "    r\"(?i)\\bbus[-_]?[a-z]*\\b\": \"Bus\"  # Matches BUS, BusAO, bus\n",
    "}\n",
    "\n",
    "# Apply regex replacements\n",
    "def normalize_friendly_name(name):\n",
    "    for pattern, replacement in friendly_name_mapping.items():\n",
    "        if re.search(pattern, name):\n",
    "            return replacement\n",
    "    return None \n",
    "\n",
    "merged_stations[\"FriendlyName\"] = merged_stations[\"FriendlyName\"].astype(str).apply(normalize_friendly_name)\n",
    "\n",
    "# Remove rows where FriendlyName is None\n",
    "merged_stations = merged_stations.dropna(subset=[\"FriendlyName\"])\n"
   ]
  },
  {
   "cell_type": "code",
   "execution_count": null,
   "metadata": {},
   "outputs": [
    {
     "name": "stdout",
     "output_type": "stream",
     "text": [
      "Conversion complete. Saved as 'converted_stations_norm.csv'\n"
     ]
    }
   ],
   "source": [
    "# Change crs to British National Grid (EPSG:27700)\n",
    "transformer = Transformer.from_crs(\"EPSG:4326\", \"EPSG:27700\", always_xy=True)\n",
    "\n",
    "# Convert Lat/Lon to Easting/Northing\n",
    "merged_stations[['Easting', 'Northing']] = merged_stations.apply(\n",
    "    lambda row: transformer.transform(row['Lon'], row['Lat']), axis=1, result_type=\"expand\"\n",
    ")\n",
    "\n",
    "# Save to CSV\n",
    "merged_stations.to_csv(\"converted_stations_norm.csv\", index=False)\n",
    "print(\"Conversion complete. Saved as 'converted_stations_norm.csv'\")"
   ]
  }
 ],
 "metadata": {
  "kernelspec": {
   "display_name": "geospatial",
   "language": "python",
   "name": "python3"
  },
  "language_info": {
   "codemirror_mode": {
    "name": "ipython",
    "version": 3
   },
   "file_extension": ".py",
   "mimetype": "text/x-python",
   "name": "python",
   "nbconvert_exporter": "python",
   "pygments_lexer": "ipython3",
   "version": "3.11.7"
  }
 },
 "nbformat": 4,
 "nbformat_minor": 2
}
