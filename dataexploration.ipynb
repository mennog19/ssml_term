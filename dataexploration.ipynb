{
 "cells": [
  {
   "cell_type": "code",
   "execution_count": null,
   "metadata": {},
   "outputs": [],
   "source": [
    "#imported libraries\n",
    "import pandas as pd\n",
    "import geopandas as gpd\n",
    "from shapely.geometry import Point, Polygon\n",
    "import os\n",
    "import rasterio\n",
    "import numpy as np\n",
    "from rasterio.transform import from_origin\n",
    "from rasterio import features\n",
    "import shapely\n",
    "from rasterio.features import rasterize\n",
    "from rasterio.enums import MergeAlg\n",
    "import matplotlib.pyplot as plt\n",
    "from matplotlib.animation import FuncAnimation\n",
    "\n",
    "from mgwr.gwr import GWR, MGWR\n",
    "from mgwr.sel_bw import Sel_BW\n",
    "from mgwr.utils import shift_colormap, truncate_colormap"
   ]
  },
  {
   "cell_type": "code",
   "execution_count": null,
   "metadata": {},
   "outputs": [],
   "source": [
    "# create the shape file for the wards\n",
    "shapefile_dir = 'Data\\LB_shp'\n",
    "gdfs = []\n",
    "for file in os.listdir(shapefile_dir):\n",
    "    if file.endswith('.shp'):\n",
    "        filepath = os.path.join(shapefile_dir, file)\n",
    "        gdf = gpd.read_file(filepath)\n",
    "        gdfs.append(gdf)\n",
    "\n",
    "merged_gdf = gpd.GeoDataFrame(pd.concat(gdfs, ignore_index=True))\n"
   ]
  },
  {
   "cell_type": "code",
   "execution_count": null,
   "metadata": {},
   "outputs": [],
   "source": [
    "# Read the CSV file into a DataFrame\n",
    "df = pd.read_csv('Data/2022-01/2022-01-metropolitan-street.csv')\n",
    "\n",
    "df = df[['Month','Longitude','Latitude','Crime type']]\n",
    "\n",
    "#filter all burgleies\n",
    "burglaries = df[df['Crime type']==\"Burglary\"]\n",
    "b_gdf = gpd.GeoDataFrame(\n",
    "    burglaries, \n",
    "    geometry=gpd.points_from_xy(burglaries.Longitude, burglaries.Latitude),\n",
    ")\n",
    "#correct css\n",
    "b_gdf.set_crs(epsg=4326, inplace=True) \n",
    "b_gdf = b_gdf.to_crs(epsg=27700)\n",
    "\n"
   ]
  },
  {
   "cell_type": "code",
   "execution_count": null,
   "metadata": {},
   "outputs": [],
   "source": [
    "#method to get all points in a certain ward and set the value equal to a column value of that ward\n",
    "def neighborhood_amount(points,wards,col_name):\n",
    "    points_with_polygons = gpd.sjoin(points, wards, how=\"inner\")\n",
    "    point_counts = points_with_polygons.groupby(\"index_right\").size()\n",
    "    wards[col_name] = wards.index.map(point_counts).fillna(0)\n",
    "    return(wards)"
   ]
  },
  {
   "cell_type": "code",
   "execution_count": null,
   "metadata": {},
   "outputs": [],
   "source": [
    "#loop to do this method for each dataset\n",
    "\n",
    "## example here with only burglaries\n",
    "wards= (neighborhood_amount(b_gdf,merged_gdf,\"burglaries\"))\n",
    "wards.explore(column=\"burglaries\", cmap=\"YlGnBu\", legend=True)"
   ]
  },
  {
   "cell_type": "markdown",
   "metadata": {},
   "source": [
    "## GWR Implementation"
   ]
  },
  {
   "cell_type": "code",
   "execution_count": null,
   "metadata": {},
   "outputs": [],
   "source": [
    "#assign predicting variable\n",
    "y = wards['burglaries'].values.reshape((-1,1))\n",
    "#assign factors\n",
    "X = wards[[\"streetlights\",\"policestations\",\"pricepersize\"]].values\n",
    "\n",
    "#definition of coordiantes\n",
    "u = gdf['X']\n",
    "v = gdf['Y']\n",
    "coords = list(zip(u,v))"
   ]
  },
  {
   "cell_type": "code",
   "execution_count": null,
   "metadata": {},
   "outputs": [],
   "source": [
    "%%time\n",
    "gwr_selector = Sel_BW(coords, y, X)\n",
    "gwr_bw = gwr_selector.search()\n",
    "#determine bandwith with bi-square kernel and AIC kriteria\n",
    "print('GWR bandwidth =', gwr_bw)"
   ]
  },
  {
   "cell_type": "code",
   "execution_count": null,
   "metadata": {},
   "outputs": [],
   "source": [
    "#fit the model\n",
    "gwr_results = GWR(coords, y, X, gwr_bw).fit()\n",
    "gwr_results.summary()"
   ]
  },
  {
   "cell_type": "markdown",
   "metadata": {},
   "source": [
    "https://deepnote.com/app/carlos-mendez/PYTHON-GWR-and-MGWR-71dd8ba9-a3ea-4d28-9b20-41cc8a282b7a\n",
    "\n",
    "link handles GWR, if it compiles until here, rest can be taken from here as well"
   ]
  },
  {
   "cell_type": "markdown",
   "metadata": {},
   "source": [
    "# Old Code"
   ]
  },
  {
   "cell_type": "code",
   "execution_count": null,
   "metadata": {},
   "outputs": [],
   "source": [
    "#get he dataset from the crime dataset\n",
    "def merge_datasets(ranges_year):\n",
    "    dataset_path_data =\"\"\n",
    "    timestep = 0\n",
    "    df =pd.DataFrame()\n",
    "    for i in range(ranges_year[0],ranges_year[1]+1):\n",
    "        for j in range(1,13):\n",
    "            timestep+=1\n",
    "            if len(str(j))<2:\n",
    "                dataset_path_data = str(i)+'-0'+str(j)\n",
    "            else:\n",
    "                dataset_path_data = str(i)+'-'+str(j)\n",
    "            temp_df = pd.read_csv('Data/'+dataset_path_data+'/'+dataset_path_data+'-metropolitan-street.csv')\n",
    "            temp_df = temp_df[['Month','Longitude','Latitude','Crime type']]\n",
    "            temp_df['timestep']= timestep\n",
    "            df = pd.concat([df,temp_df],ignore_index=True)\n",
    "            \n",
    "    temp_gdf = gpd.GeoDataFrame(\n",
    "        df, \n",
    "        geometry=gpd.points_from_xy(df.Longitude, df.Latitude),\n",
    "    )\n",
    "    temp_gdf.set_crs(epsg=4326, inplace=True)  # First assign WGS84 CRS\n",
    "    temp_gdf = temp_gdf.to_crs(epsg=27700)\n",
    "    return(temp_gdf)\n",
    "            "
   ]
  },
  {
   "cell_type": "code",
   "execution_count": null,
   "metadata": {},
   "outputs": [],
   "source": [
    "merged_gdf_1 = merged_gdf.unary_union\n",
    "merged_gdf_2= merged_gdf_1.exterior\n",
    "outer_boundary_gdf = gpd.GeoDataFrame(geometry=[merged_gdf_2], crs=merged_gdf.crs)\n",
    "outer_boundary_gdf.explore()"
   ]
  },
  {
   "cell_type": "code",
   "execution_count": null,
   "metadata": {},
   "outputs": [],
   "source": [
    "\n",
    "# Read the CSV file into a DataFrame\n",
    "df = pd.read_csv('Data/2022-01/2022-01-metropolitan-street.csv')\n",
    "\n",
    "df = df[['Month','Longitude','Latitude','Crime type']]\n",
    "gdf = gpd.GeoDataFrame(\n",
    "    df, \n",
    "    geometry=gpd.points_from_xy(df.Longitude, df.Latitude),\n",
    ")\n",
    "gdf.set_crs(epsg=4326, inplace=True)  # First assign WGS84 CRS\n",
    "gdf = gdf.to_crs(epsg=27700)\n",
    "\n",
    "# Clip the gdf to the boundary\n",
    "clipped_gdf = gpd.clip(gdf, merged_gdf)"
   ]
  },
  {
   "cell_type": "code",
   "execution_count": null,
   "metadata": {},
   "outputs": [],
   "source": [
    "clipped_gdf = gpd.clip(merge_datasets([2022,2024]), merged_gdf)"
   ]
  },
  {
   "cell_type": "code",
   "execution_count": null,
   "metadata": {},
   "outputs": [],
   "source": [
    "def rasters_overtime(cell_size,crime_types):\n",
    "\n",
    "    filtered_to_type_df = clipped_gdf[clipped_gdf['Crime type'].isin(crime_types)]\n",
    "\n",
    "\n",
    "    # Get the total bounds\n",
    "    bounds = clipped_gdf.total_bounds\n",
    "    width = int((bounds[2] - bounds[0]) / cell_size)\n",
    "    height = int((bounds[3] - bounds[1]) / cell_size)\n",
    "\n",
    "    rasters = []\n",
    "        \n",
    "    tf = from_origin(bounds[0], bounds[3], cell_size, cell_size)\n",
    "    for i in filtered_to_type_df['timestep'].unique():\n",
    "        timestep_gdf = filtered_to_type_df[filtered_to_type_df['timestep']==i]\n",
    "        points = []\n",
    "        for geom in timestep_gdf.geometry:\n",
    "            if isinstance(geom, shapely.geometry.point.Point):\n",
    "                points.append((geom,1))\n",
    "            else:\n",
    "                print(f\"Skipping non-Point geometry: {geom}\")\n",
    "\n",
    "\n",
    "        # Rasterize: each point will contribute to its corresponding pixel\n",
    "        t_raster = features.rasterize(\n",
    "            shapes=points,\n",
    "            out_shape=(height, width),\n",
    "            fill= 0,\n",
    "            transform=tf,\n",
    "            merge_alg= MergeAlg.add, \n",
    "            dtype=\"int32\",\n",
    "        )\n",
    "        rasters.append(t_raster)\n",
    "        \n",
    "    return(rasters)"
   ]
  },
  {
   "cell_type": "code",
   "execution_count": null,
   "metadata": {},
   "outputs": [],
   "source": [
    "full_entries = []\n",
    "rasters_to_animate = rasters_overtime(150,['Robbery'])\n",
    "for i in rasters_to_animate:\n",
    "    full_entries.extend(i.tolist())\n",
    "full_entries= pd.Series(full_entries)\n",
    "full_entries = full_entries[full_entries!=0]\n",
    "\n",
    "# Set up the figure and axis\n",
    "fig, ax = plt.subplots(figsize=(8, 6))\n",
    "cax = ax.matshow(rasters_to_animate[0], cmap=\"viridis\")  # Initial raster plot\n",
    "fig.colorbar(cax)\n",
    "outer_boundary_gdf.boundary.plot(ax=ax, color='yellow', linewidth=2)  # Adjust color and linewidth as needed\n",
    "\n",
    "# Update function for the animation\n",
    "def update(frame):\n",
    "    cax.set_array(rasters_to_animate[frame])\n",
    "    ax.set_title(f\"Time Step: {frame + 1}\")  # Update the title with the frame\n",
    "\n",
    "# Create the animation\n",
    "ani = FuncAnimation(fig, update, frames=len(rasters_to_animate), interval=500)\n",
    "\n",
    "# To display the animation\n",
    "plt.show()\n",
    "\n",
    "# To save the animation as a GIF or MP4\n",
    "ani.save(\"raster_animation.gif\", writer=\"imagemagick\")  # Requires ImageMagick installed\n",
    "# ani.save(\"raster_animation.mp4\", writer=\"ffmpeg\")  # Requires ffmpeg installed\n"
   ]
  }
 ],
 "metadata": {
  "kernelspec": {
   "display_name": "geospatial",
   "language": "python",
   "name": "python3"
  },
  "language_info": {
   "codemirror_mode": {
    "name": "ipython",
    "version": 3
   },
   "file_extension": ".py",
   "mimetype": "text/x-python",
   "name": "python",
   "nbconvert_exporter": "python",
   "pygments_lexer": "ipython3",
   "version": "3.11.7"
  }
 },
 "nbformat": 4,
 "nbformat_minor": 2
}
